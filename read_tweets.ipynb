{
 "cells": [
  {
   "cell_type": "code",
   "execution_count": 1,
   "id": "4533b4ad",
   "metadata": {},
   "outputs": [],
   "source": [
    "import findspark\n",
    "findspark.init()\n",
    "import pyspark"
   ]
  },
  {
   "cell_type": "code",
   "execution_count": 2,
   "id": "df337cd3",
   "metadata": {},
   "outputs": [],
   "source": [
    "# import necessary packages\n",
    "from pyspark import SparkContext\n",
    "from pyspark.streaming import StreamingContext\n",
    "from pyspark.sql import SQLContext\n",
    "from pyspark.sql.functions import desc"
   ]
  },
  {
   "cell_type": "code",
   "execution_count": 3,
   "id": "9825b002",
   "metadata": {},
   "outputs": [],
   "source": [
    "sc = SparkContext()\n",
    "# we initiate the StreamingContext with 10 second batch interval. #next we initiate our sqlcontext\n",
    "ssc = StreamingContext(sc, 10)\n",
    "sqlContext = SQLContext(sc)"
   ]
  },
  {
   "cell_type": "code",
   "execution_count": 4,
   "id": "ec5a285b",
   "metadata": {},
   "outputs": [],
   "source": [
    "# initiate streaming text from a TCP (socket) source:\n",
    "socket_stream = ssc.socketTextStream(\"127.0.0.1\", 5555)\n",
    "# lines of tweets with socket_stream window of size 60, or 60 #seconds windows of time\n",
    "lines = socket_stream.window(60)"
   ]
  },
  {
   "cell_type": "code",
   "execution_count": 5,
   "id": "a0bf884e",
   "metadata": {},
   "outputs": [],
   "source": [
    "# just a tuple to assign names\n",
    "from collections import namedtuple\n",
    "fields = (\"hashtag\", \"count\" )\n",
    "Tweet = namedtuple( 'Tweet', fields )\n",
    "# here we apply different operations on the tweets and save them to #a temporary sql table\n",
    "( lines.flatMap( lambda text: text.split( \" \" ) ) #Splits to a list\n",
    "  # Checks for    hashtag calls  \n",
    "  .filter( lambda word: word.lower().startswith(\"#\") ) \n",
    "  .map( lambda word: ( word.lower(), 1 ) ) # Lower cases the word\n",
    "  .reduceByKey( lambda a, b: a + b ) \n",
    " # Stores in a Tweet Object\n",
    "  .map( lambda rec: Tweet( rec[0], rec[1] ) )\n",
    " # Sorts Them in a dataframe\n",
    "  .foreachRDD( lambda rdd: rdd.toDF().sort( desc(\"count\") )\n",
    " # Registers only top 10 hashtags to a table.\n",
    "  .limit(10).registerTempTable(\"tweets\") ) )"
   ]
  },
  {
   "cell_type": "code",
   "execution_count": 6,
   "id": "75825257",
   "metadata": {},
   "outputs": [],
   "source": [
    "# start streaming and wait couple of minutes to get enought tweets\n",
    "ssc.start()"
   ]
  },
  {
   "cell_type": "code",
   "execution_count": 8,
   "id": "ed2514c5",
   "metadata": {},
   "outputs": [
    {
     "name": "stderr",
     "output_type": "stream",
     "text": [
      "c:\\python\\lib\\site-packages\\matplotlib\\backends\\backend_agg.py:240: RuntimeWarning: Glyph 127873 missing from current font.\n",
      "  font.set_text(s, 0.0, flags=flags)\n",
      "c:\\python\\lib\\site-packages\\matplotlib\\backends\\backend_agg.py:203: RuntimeWarning: Glyph 127873 missing from current font.\n",
      "  font.set_text(s, 0, flags=flags)\n"
     ]
    },
    {
     "data": {
      "image/png": "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\n",
      "text/plain": [
       "<Figure size 720x576 with 1 Axes>"
      ]
     },
     "metadata": {
      "needs_background": "light"
     },
     "output_type": "display_data"
    },
    {
     "name": "stdout",
     "output_type": "stream",
     "text": [
      "5\n"
     ]
    }
   ],
   "source": [
    "# import libraries to visualize the results\n",
    "import time\n",
    "from IPython import display\n",
    "import matplotlib.pyplot as plt\n",
    "import seaborn as sns\n",
    "import pandas\n",
    "get_ipython().run_line_magic('matplotlib', 'inline')\n",
    "count = 0\n",
    "while count < 5:\n",
    "    \n",
    "    time.sleep(5)\n",
    "    top_10_tags = sqlContext.sql( 'Select hashtag, count from tweets' )\n",
    "    top_10_df = top_10_tags.toPandas()\n",
    "    display.clear_output(wait=True)\n",
    "    plt.figure( figsize = ( 10, 8 ) )\n",
    "    sns.barplot( x=\"count\", y=\"hashtag\", data=top_10_df)\n",
    "    plt.show()\n",
    "    count = count + 1\n",
    "    print(count)"
   ]
  },
  {
   "cell_type": "code",
   "execution_count": null,
   "id": "a2bb56eb",
   "metadata": {},
   "outputs": [],
   "source": [
    "# stop streaming and wait couple of minutes to get enought tweets\n",
    "ssc.stop()"
   ]
  }
